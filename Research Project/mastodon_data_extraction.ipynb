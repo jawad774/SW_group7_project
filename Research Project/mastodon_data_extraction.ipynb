{
 "cells": [
  {
   "cell_type": "markdown",
   "metadata": {},
   "source": [
    "##  Mastodon toot collection"
   ]
  },
  {
   "cell_type": "code",
   "execution_count": 18,
   "metadata": {},
   "outputs": [],
   "source": [
    "from mastodon import Mastodon\n",
    "from IPython.display import HTML\n",
    "from datetime import datetime, timedelta, timezone\n",
    "import pandas as pd\n",
    "import re"
   ]
  },
  {
   "cell_type": "markdown",
   "metadata": {},
   "source": [
    "### Mastadon Data Collection"
   ]
  },
  {
   "cell_type": "code",
   "execution_count": 19,
   "metadata": {},
   "outputs": [
    {
     "data": {
      "text/plain": [
       "('RHR9EVT6E8bGqU_H3aV2csOHmZRpTt0SpeGSHvv9HFM',\n",
       " 's4UWyKiFdm8XR9-C8e1Qmv8weq2y9MCc6Oo0-uulhPg')"
      ]
     },
     "execution_count": 19,
     "metadata": {},
     "output_type": "execute_result"
    }
   ],
   "source": [
    "Mastodon.create_app(\n",
    "    'your_app_name',\n",
    "    api_base_url = 'https://mastodon.social', #this is determined by your chosen server, if you picked the general server, don't change this line\n",
    "    to_file = 'client_crediential_file_name.secret'\n",
    ")"
   ]
  },
  {
   "cell_type": "code",
   "execution_count": 20,
   "metadata": {},
   "outputs": [
    {
     "name": "stdout",
     "output_type": "stream",
     "text": [
      "Please visit this URL to authorize the app: https://mastodon.social/oauth/authorize?client_id=RHR9EVT6E8bGqU_H3aV2csOHmZRpTt0SpeGSHvv9HFM&response_type=code&redirect_uri=urn%3Aietf%3Awg%3Aoauth%3A2.0%3Aoob&scope=read+write+follow+push&force_login=False&state=None&lang=None\n"
     ]
    }
   ],
   "source": [
    "API = Mastodon(client_id = 'client_crediential_file_name.secret',)\n",
    "url = API.auth_request_url(scopes=[\"read\", \"write\", \"follow\", \"push\"])\n",
    "print(\"Please visit this URL to authorize the app:\", url)"
   ]
  },
  {
   "cell_type": "code",
   "execution_count": 21,
   "metadata": {},
   "outputs": [],
   "source": [
    "code = input(\"Enter the code from the browser: \")"
   ]
  },
  {
   "cell_type": "code",
   "execution_count": 22,
   "metadata": {},
   "outputs": [
    {
     "name": "stdout",
     "output_type": "stream",
     "text": [
      "Successfully logged in. User access token saved in 'apple_user.secret'.\n"
     ]
    }
   ],
   "source": [
    "API.log_in(\n",
    "    code=code,\n",
    "    to_file = 'user_crediential_file_name.secret'\n",
    ")\n",
    "print(\"Successfully logged in. User access token saved in 'apple_user.secret'.\")"
   ]
  },
  {
   "cell_type": "code",
   "execution_count": 23,
   "metadata": {},
   "outputs": [],
   "source": [
    "q0 = \"ChatGPT\"\n",
    "q1 = \"chatgpt\"\n",
    "q2 = \"artifical intelligence\"\n",
    "q3 = \"Artifical Intelligence\"\n",
    "mast_toots = []\n",
    "ai_toots = []\n",
    "off_set = 0"
   ]
  },
  {
   "cell_type": "code",
   "execution_count": 35,
   "metadata": {},
   "outputs": [
    {
     "name": "stdout",
     "output_type": "stream",
     "text": [
      "Reached 1 week\n",
      "Total toots collected: 4220\n",
      "Earliest toot: 2024-12-08 18:29:37.794000+00:00\n",
      "Latest toot: 2024-12-15 10:25:34+00:00\n",
      "Reached 1 week\n",
      "Total toots collected: 4237\n",
      "Earliest toot: 2024-12-08 18:29:37.794000+00:00\n",
      "Latest toot: 2024-12-15 10:25:34+00:00\n"
     ]
    }
   ],
   "source": [
    "for i in [q0, q1]:\n",
    "    while True:\n",
    "        # Fetch toots with the search API using offset\n",
    "        search_results = API.search_v2(q=i, result_type=\"statuses\", offset=off_set)\n",
    "        statuses = search_results[\"statuses\"]\n",
    "\n",
    "        if not statuses:\n",
    "            print(\"Found all toots\")\n",
    "            break  # Exit loop if no more toots are returned\n",
    "\n",
    "        # Add new toots to the collection\n",
    "        mast_toots.extend(statuses)\n",
    "\n",
    "        earliest_toot = min(statuses, key=lambda x: x[\"created_at\"])\n",
    "\n",
    "        if  timedelta(days=7) <= datetime.now(tz=timezone.utc) - earliest_toot[\"created_at\"] and len(mast_toots) > 1000:\n",
    "            print(\"Reached 1 week\")\n",
    "            break\n",
    "\n",
    "        # Update offset to fetch the next batch of results\n",
    "        off_set += len(statuses)\n",
    "\n",
    "    # Print results\n",
    "    print(f\"Total toots collected: {len(mast_toots)}\")\n",
    "    if mast_toots:\n",
    "        print(f\"Earliest toot: {mast_toots[-1]['created_at']}\")\n",
    "        print(f\"Latest toot: {mast_toots[0]['created_at']}\")"
   ]
  },
  {
   "cell_type": "code",
   "execution_count": 36,
   "metadata": {},
   "outputs": [
    {
     "name": "stdout",
     "output_type": "stream",
     "text": [
      "found all toots\n",
      "Total toots collected: 555\n",
      "Earliest toot: 2018-08-21 06:30:29+00:00\n",
      "Latest toot: 2024-12-12 11:12:01.740000+00:00\n",
      "found all toots\n",
      "Total toots collected: 555\n",
      "Earliest toot: 2018-08-21 06:30:29+00:00\n",
      "Latest toot: 2024-12-12 11:12:01.740000+00:00\n"
     ]
    }
   ],
   "source": [
    "off_set = 0\n",
    "for i in [q2, q3]:\n",
    "    while True:\n",
    "        # Fetch toots with the search API using offset\n",
    "        search_results = API.search_v2(q=i, result_type=\"statuses\", offset=off_set)\n",
    "        statuses = search_results[\"statuses\"]\n",
    "\n",
    "        if not statuses:\n",
    "            print(\"found all toots\")\n",
    "            break  # Exit loop if no more toots are returned\n",
    "\n",
    "        # Add new toots to the collection\n",
    "        ai_toots.extend(statuses)\n",
    "\n",
    "        earliest_toot = min(statuses, key=lambda x: x[\"created_at\"])\n",
    "\n",
    "        # Update offset to fetch the next batch of results\n",
    "        off_set += len(statuses)\n",
    "\n",
    "    # Print results\n",
    "    print(f\"Total toots collected: {len(ai_toots)}\")\n",
    "    if ai_toots:\n",
    "        print(f\"Earliest toot: {ai_toots[-1]['created_at']}\")\n",
    "        print(f\"Latest toot: {ai_toots[0]['created_at']}\")"
   ]
  },
  {
   "cell_type": "code",
   "execution_count": 37,
   "metadata": {},
   "outputs": [],
   "source": [
    "needed_attributes = [\n",
    "    'id', 'created_at', 'content', 'language', 'replies_count', \n",
    "    'reblogs_count', 'favourites_count', 'visibility', 'tags'\n",
    "]\n",
    "\n",
    "cleaned_mast_toots = []\n",
    "cleaned_ai_toots = []\n",
    "\n",
    "for toot in mast_toots:\n",
    "    cleaned_toot = {key: toot[key] for key in needed_attributes if key in toot}\n",
    "    cleaned_mast_toots.append(cleaned_toot)\n",
    "\n",
    "for toot in ai_toots:\n",
    "    cleaned_toot = {key: toot[key] for key in needed_attributes if key in toot}\n",
    "    cleaned_ai_toots.append(cleaned_toot)\n",
    "    "
   ]
  },
  {
   "cell_type": "code",
   "execution_count": 38,
   "metadata": {},
   "outputs": [],
   "source": [
    "def strip_html_tags(html_text):\n",
    "    plain_text = re.sub(r'<.*?>', '', html_text)\n",
    "    return plain_text\n",
    "\n",
    "for toot in cleaned_mast_toots:\n",
    "    if 'content' in toot and toot['content']:  # Check if 'content' exists and is not None\n",
    "        toot['content'] = strip_html_tags(toot['content'])\n",
    "\n",
    "for toot in cleaned_ai_toots:\n",
    "    if 'content' in toot and toot['content']:  # Check if 'content' exists and is not None\n",
    "        toot['content'] = strip_html_tags(toot['content'])"
   ]
  },
  {
   "cell_type": "code",
   "execution_count": 39,
   "metadata": {},
   "outputs": [
    {
     "data": {
      "text/html": [
       "<div>\n",
       "<style scoped>\n",
       "    .dataframe tbody tr th:only-of-type {\n",
       "        vertical-align: middle;\n",
       "    }\n",
       "\n",
       "    .dataframe tbody tr th {\n",
       "        vertical-align: top;\n",
       "    }\n",
       "\n",
       "    .dataframe thead th {\n",
       "        text-align: right;\n",
       "    }\n",
       "</style>\n",
       "<table border=\"1\" class=\"dataframe\">\n",
       "  <thead>\n",
       "    <tr style=\"text-align: right;\">\n",
       "      <th></th>\n",
       "      <th>id</th>\n",
       "      <th>created_at</th>\n",
       "      <th>content</th>\n",
       "      <th>language</th>\n",
       "      <th>replies_count</th>\n",
       "      <th>reblogs_count</th>\n",
       "      <th>favourites_count</th>\n",
       "      <th>visibility</th>\n",
       "      <th>tags</th>\n",
       "    </tr>\n",
       "  </thead>\n",
       "  <tbody>\n",
       "    <tr>\n",
       "      <th>0</th>\n",
       "      <td>113639550502224256</td>\n",
       "      <td>2024-12-12 11:12:01.740000+00:00</td>\n",
       "      <td>Ainsi s'ouvrirent les portes de l'enfer.\\nwww....</td>\n",
       "      <td>fr</td>\n",
       "      <td>0</td>\n",
       "      <td>0</td>\n",
       "      <td>0</td>\n",
       "      <td>public</td>\n",
       "      <td>[]</td>\n",
       "    </tr>\n",
       "    <tr>\n",
       "      <th>1</th>\n",
       "      <td>113639537305656138</td>\n",
       "      <td>2024-12-11 23:50:20+00:00</td>\n",
       "      <td>What if AI can actually help with your burnout...</td>\n",
       "      <td>en</td>\n",
       "      <td>0</td>\n",
       "      <td>0</td>\n",
       "      <td>0</td>\n",
       "      <td>public</td>\n",
       "      <td>[]</td>\n",
       "    </tr>\n",
       "    <tr>\n",
       "      <th>2</th>\n",
       "      <td>113637263387670537</td>\n",
       "      <td>2024-12-12 01:30:31.801000+00:00</td>\n",
       "      <td>@fbi @washingtonpost haha dude Biden is really...</td>\n",
       "      <td>en</td>\n",
       "      <td>0</td>\n",
       "      <td>0</td>\n",
       "      <td>0</td>\n",
       "      <td>public</td>\n",
       "      <td>[]</td>\n",
       "    </tr>\n",
       "    <tr>\n",
       "      <th>3</th>\n",
       "      <td>113629601136983194</td>\n",
       "      <td>2024-12-10 16:56:54+00:00</td>\n",
       "      <td>Oracle Just Shared Some Amazing Insight With A...</td>\n",
       "      <td>en</td>\n",
       "      <td>0</td>\n",
       "      <td>0</td>\n",
       "      <td>0</td>\n",
       "      <td>public</td>\n",
       "      <td>[]</td>\n",
       "    </tr>\n",
       "    <tr>\n",
       "      <th>4</th>\n",
       "      <td>113611582071097671</td>\n",
       "      <td>2024-12-07 12:35:00+00:00</td>\n",
       "      <td>Prediction: This Will Be 2025's Top-Performing...</td>\n",
       "      <td>en</td>\n",
       "      <td>0</td>\n",
       "      <td>0</td>\n",
       "      <td>0</td>\n",
       "      <td>public</td>\n",
       "      <td>[]</td>\n",
       "    </tr>\n",
       "    <tr>\n",
       "      <th>...</th>\n",
       "      <td>...</td>\n",
       "      <td>...</td>\n",
       "      <td>...</td>\n",
       "      <td>...</td>\n",
       "      <td>...</td>\n",
       "      <td>...</td>\n",
       "      <td>...</td>\n",
       "      <td>...</td>\n",
       "      <td>...</td>\n",
       "    </tr>\n",
       "    <tr>\n",
       "      <th>550</th>\n",
       "      <td>108187053885501189</td>\n",
       "      <td>2022-04-24 12:30:33+00:00</td>\n",
       "      <td>@loveisgrief ja, klar gibts immer viel zu beri...</td>\n",
       "      <td>en</td>\n",
       "      <td>1</td>\n",
       "      <td>0</td>\n",
       "      <td>0</td>\n",
       "      <td>public</td>\n",
       "      <td>[]</td>\n",
       "    </tr>\n",
       "    <tr>\n",
       "      <th>551</th>\n",
       "      <td>107374987354924180</td>\n",
       "      <td>2021-12-02 02:31:22+00:00</td>\n",
       "      <td>Homeland security is requesting comments from ...</td>\n",
       "      <td>en</td>\n",
       "      <td>0</td>\n",
       "      <td>3</td>\n",
       "      <td>1</td>\n",
       "      <td>public</td>\n",
       "      <td>[{'name': 'privacy', 'url': 'https://mastodon....</td>\n",
       "    </tr>\n",
       "    <tr>\n",
       "      <th>552</th>\n",
       "      <td>103172496385073778</td>\n",
       "      <td>2019-11-20 22:02:37+00:00</td>\n",
       "      <td>Perhaps they, given the increase of intelligen...</td>\n",
       "      <td>en</td>\n",
       "      <td>1</td>\n",
       "      <td>0</td>\n",
       "      <td>0</td>\n",
       "      <td>public</td>\n",
       "      <td>[]</td>\n",
       "    </tr>\n",
       "    <tr>\n",
       "      <th>553</th>\n",
       "      <td>101890578358125434</td>\n",
       "      <td>2019-04-08 12:33:56+00:00</td>\n",
       "      <td>\"UK businesses using artificial intelligence t...</td>\n",
       "      <td>en</td>\n",
       "      <td>0</td>\n",
       "      <td>1</td>\n",
       "      <td>0</td>\n",
       "      <td>public</td>\n",
       "      <td>[{'name': 'ai', 'url': 'https://mastodon.socia...</td>\n",
       "    </tr>\n",
       "    <tr>\n",
       "      <th>554</th>\n",
       "      <td>100586838099870414</td>\n",
       "      <td>2018-08-21 06:30:29+00:00</td>\n",
       "      <td>Captain for now we should be really careful to...</td>\n",
       "      <td>en</td>\n",
       "      <td>0</td>\n",
       "      <td>3</td>\n",
       "      <td>0</td>\n",
       "      <td>public</td>\n",
       "      <td>[{'name': 'federation', 'url': 'https://mastod...</td>\n",
       "    </tr>\n",
       "  </tbody>\n",
       "</table>\n",
       "<p>555 rows × 9 columns</p>\n",
       "</div>"
      ],
      "text/plain": [
       "                     id                       created_at  \\\n",
       "0    113639550502224256 2024-12-12 11:12:01.740000+00:00   \n",
       "1    113639537305656138        2024-12-11 23:50:20+00:00   \n",
       "2    113637263387670537 2024-12-12 01:30:31.801000+00:00   \n",
       "3    113629601136983194        2024-12-10 16:56:54+00:00   \n",
       "4    113611582071097671        2024-12-07 12:35:00+00:00   \n",
       "..                  ...                              ...   \n",
       "550  108187053885501189        2022-04-24 12:30:33+00:00   \n",
       "551  107374987354924180        2021-12-02 02:31:22+00:00   \n",
       "552  103172496385073778        2019-11-20 22:02:37+00:00   \n",
       "553  101890578358125434        2019-04-08 12:33:56+00:00   \n",
       "554  100586838099870414        2018-08-21 06:30:29+00:00   \n",
       "\n",
       "                                               content language  \\\n",
       "0    Ainsi s'ouvrirent les portes de l'enfer.\\nwww....       fr   \n",
       "1    What if AI can actually help with your burnout...       en   \n",
       "2    @fbi @washingtonpost haha dude Biden is really...       en   \n",
       "3    Oracle Just Shared Some Amazing Insight With A...       en   \n",
       "4    Prediction: This Will Be 2025's Top-Performing...       en   \n",
       "..                                                 ...      ...   \n",
       "550  @loveisgrief ja, klar gibts immer viel zu beri...       en   \n",
       "551  Homeland security is requesting comments from ...       en   \n",
       "552  Perhaps they, given the increase of intelligen...       en   \n",
       "553  \"UK businesses using artificial intelligence t...       en   \n",
       "554  Captain for now we should be really careful to...       en   \n",
       "\n",
       "     replies_count  reblogs_count  favourites_count visibility  \\\n",
       "0                0              0                 0     public   \n",
       "1                0              0                 0     public   \n",
       "2                0              0                 0     public   \n",
       "3                0              0                 0     public   \n",
       "4                0              0                 0     public   \n",
       "..             ...            ...               ...        ...   \n",
       "550              1              0                 0     public   \n",
       "551              0              3                 1     public   \n",
       "552              1              0                 0     public   \n",
       "553              0              1                 0     public   \n",
       "554              0              3                 0     public   \n",
       "\n",
       "                                                  tags  \n",
       "0                                                   []  \n",
       "1                                                   []  \n",
       "2                                                   []  \n",
       "3                                                   []  \n",
       "4                                                   []  \n",
       "..                                                 ...  \n",
       "550                                                 []  \n",
       "551  [{'name': 'privacy', 'url': 'https://mastodon....  \n",
       "552                                                 []  \n",
       "553  [{'name': 'ai', 'url': 'https://mastodon.socia...  \n",
       "554  [{'name': 'federation', 'url': 'https://mastod...  \n",
       "\n",
       "[555 rows x 9 columns]"
      ]
     },
     "execution_count": 39,
     "metadata": {},
     "output_type": "execute_result"
    }
   ],
   "source": [
    "mast_df = pd.DataFrame(cleaned_mast_toots)\n",
    "ai_df = pd.DataFrame(cleaned_ai_toots)\n",
    "ai_df"
   ]
  },
  {
   "cell_type": "code",
   "execution_count": 40,
   "metadata": {},
   "outputs": [],
   "source": [
    "mast_df.to_csv('mast_toots.csv', index=False)\n",
    "ai_df.to_csv('ai_toots.csv', index=False)"
   ]
  }
 ],
 "metadata": {
  "kernelspec": {
   "display_name": "Python 3",
   "language": "python",
   "name": "python3"
  },
  "language_info": {
   "codemirror_mode": {
    "name": "ipython",
    "version": 3
   },
   "file_extension": ".py",
   "mimetype": "text/x-python",
   "name": "python",
   "nbconvert_exporter": "python",
   "pygments_lexer": "ipython3",
   "version": "3.8.10"
  }
 },
 "nbformat": 4,
 "nbformat_minor": 2
}
