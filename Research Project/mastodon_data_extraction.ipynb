{
 "cells": [
  {
   "cell_type": "markdown",
   "metadata": {},
   "source": [
    "##  Mastodon toot collection"
   ]
  },
  {
   "cell_type": "markdown",
   "metadata": {},
   "source": [
    "### Importing needed libraries"
   ]
  },
  {
   "cell_type": "code",
   "execution_count": 6,
   "metadata": {},
   "outputs": [],
   "source": [
    "from mastodon import Mastodon\n",
    "from datetime import datetime, timedelta, timezone\n",
    "import pandas as pd\n",
    "import re"
   ]
  },
  {
   "cell_type": "markdown",
   "metadata": {},
   "source": [
    "### Mastadon Data Collection"
   ]
  },
  {
   "cell_type": "code",
   "execution_count": 7,
   "metadata": {},
   "outputs": [
    {
     "data": {
      "text/plain": [
       "('g503DPxqF6-rTAD6IV9IG-rkKejSS8GgJKKGVWNhWuc',\n",
       " 'GbZWQOE2DIgPP9C6uwEZGkP4pDtC7Gcs03cV_NdrLJ4')"
      ]
     },
     "execution_count": 7,
     "metadata": {},
     "output_type": "execute_result"
    }
   ],
   "source": [
    "# Create Mastodon app to connect to API\n",
    "\n",
    "Mastodon.create_app(\n",
    "    'your_app_name',\n",
    "    api_base_url = 'https://mastodon.social',\n",
    "    to_file = 'client_crediential_file_name.secret'\n",
    ")"
   ]
  },
  {
   "cell_type": "code",
   "execution_count": 8,
   "metadata": {},
   "outputs": [
    {
     "name": "stdout",
     "output_type": "stream",
     "text": [
      "Please visit this URL to authorize the app: https://mastodon.social/oauth/authorize?client_id=g503DPxqF6-rTAD6IV9IG-rkKejSS8GgJKKGVWNhWuc&response_type=code&redirect_uri=urn%3Aietf%3Awg%3Aoauth%3A2.0%3Aoob&scope=read+write+follow+push&force_login=False&state=None&lang=None\n"
     ]
    }
   ],
   "source": [
    "# Connect to API using OAuth\n",
    "\n",
    "API = Mastodon(client_id = 'client_crediential_file_name.secret',)\n",
    "url = API.auth_request_url(scopes=[\"read\", \"write\", \"follow\", \"push\"])\n",
    "print(\"Please visit this URL to authorize the app:\", url)"
   ]
  },
  {
   "cell_type": "code",
   "execution_count": 9,
   "metadata": {},
   "outputs": [],
   "source": [
    "# Enter token from OAuth\n",
    "\n",
    "code = input(\"Enter the code from the browser: \")"
   ]
  },
  {
   "cell_type": "code",
   "execution_count": 10,
   "metadata": {},
   "outputs": [
    {
     "name": "stdout",
     "output_type": "stream",
     "text": [
      "Successfully logged in. User access token saved in 'apple_user.secret'.\n"
     ]
    }
   ],
   "source": [
    "# Login to API\n",
    "\n",
    "API.log_in(\n",
    "    code=code,\n",
    "    to_file = 'user_crediential_file_name.secret'\n",
    ")\n",
    "print(\"Successfully logged in. User access token saved in 'apple_user.secret'.\")"
   ]
  },
  {
   "cell_type": "code",
   "execution_count": 11,
   "metadata": {},
   "outputs": [],
   "source": [
    "# Initialize query terms, lists containing toots and offset value for searching\n",
    "\n",
    "q0 = \"ChatGPT\"\n",
    "q1 = \"chatgpt\"\n",
    "q2 = \"artifical intelligence\"\n",
    "q3 = \"Artifical Intelligence\"\n",
    "mast_toots = []\n",
    "ai_toots = []\n",
    "off_set = 0"
   ]
  },
  {
   "cell_type": "code",
   "execution_count": null,
   "metadata": {},
   "outputs": [
    {
     "name": "stdout",
     "output_type": "stream",
     "text": [
      "Reached 1 week\n",
      "Total toots collected: 2125\n",
      "Earliest toot: 2024-12-14 08:29:19+00:00\n",
      "Latest toot: 2024-12-21 09:26:36.227000+00:00\n",
      "Reached 1 week\n",
      "Total toots collected: 4250\n",
      "Earliest toot: 2024-12-14 08:29:19+00:00\n",
      "Latest toot: 2024-12-21 09:26:36.227000+00:00\n"
     ]
    }
   ],
   "source": [
    "# Collecting Chatgpt toots\n",
    "\n",
    "for i in [q0, q1]: # Fetch toots with both Chatgpt queries\n",
    "    \n",
    "    off_set = 0 # Refresh offset for the next query\n",
    "    \n",
    "    # Loop to fetch older toots using offsets\n",
    "    while True:\n",
    "\n",
    "        # Fetch toots with the search API using offset\n",
    "        search_results = API.search_v2(q=i, result_type=\"statuses\", offset=off_set)\n",
    "        statuses = search_results[\"statuses\"]\n",
    "\n",
    "        # Exit loop if no more toots were found\n",
    "        if not statuses:\n",
    "            print(\"Found all toots\")\n",
    "            break \n",
    "\n",
    "        # Add new toots to the collection\n",
    "        mast_toots.extend(statuses)\n",
    "\n",
    "        # Find the oldest toot\n",
    "        oldest_toot = min(statuses, key=lambda x: x[\"created_at\"])\n",
    "\n",
    "        # End loop once we fetched 1 week worth of toots or if we reach 1000 toots with a longer time frame\n",
    "        if  timedelta(days=7) <= datetime.now(tz=timezone.utc) - oldest_toot[\"created_at\"] and len(mast_toots) > 1000:\n",
    "            print(\"Reached 1 week\")\n",
    "            break\n",
    "\n",
    "        # Update offset to fetch the next batch of results\n",
    "        off_set += len(statuses)\n",
    "\n",
    "    # Print results\n",
    "    print(f\"Total toots collected: {len(mast_toots)}\")\n",
    "    if mast_toots:\n",
    "        print(f\"Earliest toot: {mast_toots[-1]['created_at']}\")\n",
    "        print(f\"Latest toot: {mast_toots[0]['created_at']}\")"
   ]
  },
  {
   "cell_type": "code",
   "execution_count": 14,
   "metadata": {},
   "outputs": [
    {
     "name": "stdout",
     "output_type": "stream",
     "text": [
      "found all toots\n",
      "Total toots collected: 236\n",
      "Earliest toot: 2018-08-21 06:30:29+00:00\n",
      "Latest toot: 2024-12-19 20:35:25+00:00\n",
      "found all toots\n",
      "Total toots collected: 423\n",
      "Earliest toot: 2018-08-21 06:30:29+00:00\n",
      "Latest toot: 2024-12-19 20:35:25+00:00\n"
     ]
    }
   ],
   "source": [
    "# Collecting AI toots\n",
    "\n",
    "for i in [q2, q3]: # Fetch toots with both AI queries\n",
    "\n",
    "    off_set = 0 # Refresh offset for the next query\n",
    "    \n",
    "    # Loop to fetch older toots using offsets\n",
    "    while True:\n",
    "        # Fetch toots with the search API using offset\n",
    "        search_results = API.search_v2(q=i, result_type=\"statuses\", offset=off_set)\n",
    "        statuses = search_results[\"statuses\"]\n",
    "\n",
    "        # Exit loop if no more toots are returned\n",
    "        if not statuses:\n",
    "            print(\"found all toots\")\n",
    "            break\n",
    "\n",
    "        # Add new toots to the collection\n",
    "        ai_toots.extend(statuses)\n",
    "\n",
    "        # Excluded time frame restraint due to the small number of toots\n",
    "\n",
    "        # Update offset to fetch the next batch of results\n",
    "        off_set += len(statuses)\n",
    "\n",
    "    # Print results\n",
    "    print(f\"Total toots collected: {len(ai_toots)}\")\n",
    "    if ai_toots:\n",
    "        print(f\"Earliest toot: {ai_toots[-1]['created_at']}\")\n",
    "        print(f\"Latest toot: {ai_toots[0]['created_at']}\")"
   ]
  },
  {
   "cell_type": "markdown",
   "metadata": {},
   "source": [
    "### Create Dataframes for the collected toots"
   ]
  },
  {
   "cell_type": "code",
   "execution_count": 23,
   "metadata": {},
   "outputs": [],
   "source": [
    "# Specific attributes extracted from the fetched toots\n",
    "needed_attributes = [\n",
    "    'id', 'created_at', 'content', 'language', 'replies_count', \n",
    "    'reblogs_count', 'favourites_count', 'visibility', 'tags'\n",
    "]\n",
    "\n",
    "cleaned_mast_toots = []\n",
    "cleaned_ai_toots = []\n",
    "\n",
    "for toot in mast_toots:\n",
    "    cleaned_toot = {key: toot[key] for key in needed_attributes if key in toot}\n",
    "    cleaned_mast_toots.append(cleaned_toot)\n",
    "\n",
    "for toot in ai_toots:\n",
    "    cleaned_toot = {key: toot[key] for key in needed_attributes if key in toot}\n",
    "    cleaned_ai_toots.append(cleaned_toot)\n",
    "    "
   ]
  },
  {
   "cell_type": "code",
   "execution_count": 24,
   "metadata": {},
   "outputs": [],
   "source": [
    "# Removing html text from collected toots\n",
    "def strip_html_tags(html_text):\n",
    "    plain_text = re.sub(r'<.*?>', '', html_text)\n",
    "    return plain_text\n",
    "\n",
    "for toot in cleaned_mast_toots:\n",
    "    if 'content' in toot and toot['content']:  # Check if 'content' exists and is not None\n",
    "        toot['content'] = strip_html_tags(toot['content'])\n",
    "\n",
    "for toot in cleaned_ai_toots:\n",
    "    if 'content' in toot and toot['content']:  # Check if 'content' exists and is not None\n",
    "        toot['content'] = strip_html_tags(toot['content'])"
   ]
  },
  {
   "cell_type": "code",
   "execution_count": 25,
   "metadata": {},
   "outputs": [],
   "source": [
    "# Create dataframes for each group of toots\n",
    "mast_df = pd.DataFrame(cleaned_mast_toots)\n",
    "ai_df = pd.DataFrame(cleaned_ai_toots)"
   ]
  },
  {
   "cell_type": "code",
   "execution_count": 26,
   "metadata": {},
   "outputs": [
    {
     "data": {
      "text/html": [
       "<div>\n",
       "<style scoped>\n",
       "    .dataframe tbody tr th:only-of-type {\n",
       "        vertical-align: middle;\n",
       "    }\n",
       "\n",
       "    .dataframe tbody tr th {\n",
       "        vertical-align: top;\n",
       "    }\n",
       "\n",
       "    .dataframe thead th {\n",
       "        text-align: right;\n",
       "    }\n",
       "</style>\n",
       "<table border=\"1\" class=\"dataframe\">\n",
       "  <thead>\n",
       "    <tr style=\"text-align: right;\">\n",
       "      <th></th>\n",
       "      <th>id</th>\n",
       "      <th>created_at</th>\n",
       "      <th>content</th>\n",
       "      <th>language</th>\n",
       "      <th>replies_count</th>\n",
       "      <th>reblogs_count</th>\n",
       "      <th>favourites_count</th>\n",
       "      <th>visibility</th>\n",
       "      <th>tags</th>\n",
       "    </tr>\n",
       "  </thead>\n",
       "  <tbody>\n",
       "    <tr>\n",
       "      <th>0</th>\n",
       "      <td>113690096187773544</td>\n",
       "      <td>2024-12-21 09:26:36.227000+00:00</td>\n",
       "      <td>Music can thrive in the age of AIThe birth of ...</td>\n",
       "      <td>en</td>\n",
       "      <td>0</td>\n",
       "      <td>0</td>\n",
       "      <td>0</td>\n",
       "      <td>public</td>\n",
       "      <td>[]</td>\n",
       "    </tr>\n",
       "    <tr>\n",
       "      <th>1</th>\n",
       "      <td>113690081293255708</td>\n",
       "      <td>2024-12-21 09:22:48+00:00</td>\n",
       "      <td>ChatGPT integriert auf PC und Mac weitere Apps...</td>\n",
       "      <td>de</td>\n",
       "      <td>0</td>\n",
       "      <td>0</td>\n",
       "      <td>0</td>\n",
       "      <td>public</td>\n",
       "      <td>[]</td>\n",
       "    </tr>\n",
       "    <tr>\n",
       "      <th>2</th>\n",
       "      <td>113690067666967378</td>\n",
       "      <td>2024-12-21 09:19:18+00:00</td>\n",
       "      <td>オチが色々と考えさせられる。--月額3万円の最強ChatGPTに「電源で音質が変わるか」と聞...</td>\n",
       "      <td>ja</td>\n",
       "      <td>0</td>\n",
       "      <td>0</td>\n",
       "      <td>0</td>\n",
       "      <td>public</td>\n",
       "      <td>[]</td>\n",
       "    </tr>\n",
       "    <tr>\n",
       "      <th>3</th>\n",
       "      <td>113690066527344469</td>\n",
       "      <td>2024-12-21 09:19:03+00:00</td>\n",
       "      <td>https://www.phileweb.com/review/column/202412/...</td>\n",
       "      <td>ja</td>\n",
       "      <td>0</td>\n",
       "      <td>0</td>\n",
       "      <td>0</td>\n",
       "      <td>public</td>\n",
       "      <td>[]</td>\n",
       "    </tr>\n",
       "    <tr>\n",
       "      <th>4</th>\n",
       "      <td>113690015360566765</td>\n",
       "      <td>2024-12-21 09:06:02+00:00</td>\n",
       "      <td>🇪🇸 Top artículos: viernes, 20 de diciembre de ...</td>\n",
       "      <td>es</td>\n",
       "      <td>0</td>\n",
       "      <td>0</td>\n",
       "      <td>0</td>\n",
       "      <td>public</td>\n",
       "      <td>[]</td>\n",
       "    </tr>\n",
       "  </tbody>\n",
       "</table>\n",
       "</div>"
      ],
      "text/plain": [
       "                   id                       created_at  \\\n",
       "0  113690096187773544 2024-12-21 09:26:36.227000+00:00   \n",
       "1  113690081293255708        2024-12-21 09:22:48+00:00   \n",
       "2  113690067666967378        2024-12-21 09:19:18+00:00   \n",
       "3  113690066527344469        2024-12-21 09:19:03+00:00   \n",
       "4  113690015360566765        2024-12-21 09:06:02+00:00   \n",
       "\n",
       "                                             content language  replies_count  \\\n",
       "0  Music can thrive in the age of AIThe birth of ...       en              0   \n",
       "1  ChatGPT integriert auf PC und Mac weitere Apps...       de              0   \n",
       "2  オチが色々と考えさせられる。--月額3万円の最強ChatGPTに「電源で音質が変わるか」と聞...       ja              0   \n",
       "3  https://www.phileweb.com/review/column/202412/...       ja              0   \n",
       "4  🇪🇸 Top artículos: viernes, 20 de diciembre de ...       es              0   \n",
       "\n",
       "   reblogs_count  favourites_count visibility tags  \n",
       "0              0                 0     public   []  \n",
       "1              0                 0     public   []  \n",
       "2              0                 0     public   []  \n",
       "3              0                 0     public   []  \n",
       "4              0                 0     public   []  "
      ]
     },
     "execution_count": 26,
     "metadata": {},
     "output_type": "execute_result"
    }
   ],
   "source": [
    "mast_df.head()"
   ]
  },
  {
   "cell_type": "code",
   "execution_count": 27,
   "metadata": {},
   "outputs": [
    {
     "data": {
      "text/html": [
       "<div>\n",
       "<style scoped>\n",
       "    .dataframe tbody tr th:only-of-type {\n",
       "        vertical-align: middle;\n",
       "    }\n",
       "\n",
       "    .dataframe tbody tr th {\n",
       "        vertical-align: top;\n",
       "    }\n",
       "\n",
       "    .dataframe thead th {\n",
       "        text-align: right;\n",
       "    }\n",
       "</style>\n",
       "<table border=\"1\" class=\"dataframe\">\n",
       "  <thead>\n",
       "    <tr style=\"text-align: right;\">\n",
       "      <th></th>\n",
       "      <th>id</th>\n",
       "      <th>created_at</th>\n",
       "      <th>content</th>\n",
       "      <th>language</th>\n",
       "      <th>replies_count</th>\n",
       "      <th>reblogs_count</th>\n",
       "      <th>favourites_count</th>\n",
       "      <th>visibility</th>\n",
       "      <th>tags</th>\n",
       "    </tr>\n",
       "  </thead>\n",
       "  <tbody>\n",
       "    <tr>\n",
       "      <th>0</th>\n",
       "      <td>113681401668833860</td>\n",
       "      <td>2024-12-19 20:35:25+00:00</td>\n",
       "      <td>#digipresadventcalendar #day19U-matic was deve...</td>\n",
       "      <td>en</td>\n",
       "      <td>0</td>\n",
       "      <td>4</td>\n",
       "      <td>0</td>\n",
       "      <td>public</td>\n",
       "      <td>[{'name': 'digipresadventcalendar', 'url': 'ht...</td>\n",
       "    </tr>\n",
       "    <tr>\n",
       "      <th>1</th>\n",
       "      <td>113639550502224256</td>\n",
       "      <td>2024-12-12 11:12:01.740000+00:00</td>\n",
       "      <td>Ainsi s'ouvrirent les portes de l'enfer.\\nwww....</td>\n",
       "      <td>fr</td>\n",
       "      <td>0</td>\n",
       "      <td>0</td>\n",
       "      <td>0</td>\n",
       "      <td>public</td>\n",
       "      <td>[]</td>\n",
       "    </tr>\n",
       "    <tr>\n",
       "      <th>2</th>\n",
       "      <td>113639537305656138</td>\n",
       "      <td>2024-12-11 23:50:20+00:00</td>\n",
       "      <td>What if AI can actually help with your burnout...</td>\n",
       "      <td>en</td>\n",
       "      <td>0</td>\n",
       "      <td>0</td>\n",
       "      <td>0</td>\n",
       "      <td>public</td>\n",
       "      <td>[]</td>\n",
       "    </tr>\n",
       "    <tr>\n",
       "      <th>3</th>\n",
       "      <td>113637263387670537</td>\n",
       "      <td>2024-12-12 01:30:31.801000+00:00</td>\n",
       "      <td>@fbi @washingtonpost haha dude Biden is really...</td>\n",
       "      <td>en</td>\n",
       "      <td>0</td>\n",
       "      <td>0</td>\n",
       "      <td>0</td>\n",
       "      <td>public</td>\n",
       "      <td>[]</td>\n",
       "    </tr>\n",
       "    <tr>\n",
       "      <th>4</th>\n",
       "      <td>113629601136983194</td>\n",
       "      <td>2024-12-10 16:56:54+00:00</td>\n",
       "      <td>Oracle Just Shared Some Amazing Insight With A...</td>\n",
       "      <td>en</td>\n",
       "      <td>0</td>\n",
       "      <td>0</td>\n",
       "      <td>0</td>\n",
       "      <td>public</td>\n",
       "      <td>[]</td>\n",
       "    </tr>\n",
       "  </tbody>\n",
       "</table>\n",
       "</div>"
      ],
      "text/plain": [
       "                   id                       created_at  \\\n",
       "0  113681401668833860        2024-12-19 20:35:25+00:00   \n",
       "1  113639550502224256 2024-12-12 11:12:01.740000+00:00   \n",
       "2  113639537305656138        2024-12-11 23:50:20+00:00   \n",
       "3  113637263387670537 2024-12-12 01:30:31.801000+00:00   \n",
       "4  113629601136983194        2024-12-10 16:56:54+00:00   \n",
       "\n",
       "                                             content language  replies_count  \\\n",
       "0  #digipresadventcalendar #day19U-matic was deve...       en              0   \n",
       "1  Ainsi s'ouvrirent les portes de l'enfer.\\nwww....       fr              0   \n",
       "2  What if AI can actually help with your burnout...       en              0   \n",
       "3  @fbi @washingtonpost haha dude Biden is really...       en              0   \n",
       "4  Oracle Just Shared Some Amazing Insight With A...       en              0   \n",
       "\n",
       "   reblogs_count  favourites_count visibility  \\\n",
       "0              4                 0     public   \n",
       "1              0                 0     public   \n",
       "2              0                 0     public   \n",
       "3              0                 0     public   \n",
       "4              0                 0     public   \n",
       "\n",
       "                                                tags  \n",
       "0  [{'name': 'digipresadventcalendar', 'url': 'ht...  \n",
       "1                                                 []  \n",
       "2                                                 []  \n",
       "3                                                 []  \n",
       "4                                                 []  "
      ]
     },
     "execution_count": 27,
     "metadata": {},
     "output_type": "execute_result"
    }
   ],
   "source": [
    "ai_df.head()"
   ]
  },
  {
   "cell_type": "code",
   "execution_count": 40,
   "metadata": {},
   "outputs": [],
   "source": [
    "# Create csv files for each group of toots\n",
    "mast_df.to_csv('mast_toots.csv', index=False)\n",
    "ai_df.to_csv('ai_toots.csv', index=False)"
   ]
  }
 ],
 "metadata": {
  "kernelspec": {
   "display_name": "Python 3",
   "language": "python",
   "name": "python3"
  },
  "language_info": {
   "codemirror_mode": {
    "name": "ipython",
    "version": 3
   },
   "file_extension": ".py",
   "mimetype": "text/x-python",
   "name": "python",
   "nbconvert_exporter": "python",
   "pygments_lexer": "ipython3",
   "version": "3.8.10"
  }
 },
 "nbformat": 4,
 "nbformat_minor": 2
}
