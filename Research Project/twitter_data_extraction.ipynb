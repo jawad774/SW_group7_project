{
 "cells": [
  {
   "cell_type": "markdown",
   "metadata": {},
   "source": [
    "## Twitter/X tweet collection"
   ]
  },
  {
   "cell_type": "markdown",
   "metadata": {},
   "source": [
    "### Importing and installing necessary libraries"
   ]
  },
  {
   "cell_type": "code",
   "execution_count": 5,
   "metadata": {},
   "outputs": [
    {
     "name": "stdout",
     "output_type": "stream",
     "text": [
      "Requirement already satisfied: tweepy in c:\\users\\jawad\\appdata\\local\\programs\\python\\python38\\lib\\site-packages (4.14.0)\n",
      "Requirement already satisfied: requests<3,>=2.27.0 in c:\\users\\jawad\\appdata\\local\\programs\\python\\python38\\lib\\site-packages (from tweepy) (2.32.3)\n",
      "Requirement already satisfied: oauthlib<4,>=3.2.0 in c:\\users\\jawad\\appdata\\local\\programs\\python\\python38\\lib\\site-packages (from tweepy) (3.2.2)\n",
      "Requirement already satisfied: requests-oauthlib<2,>=1.2.0 in c:\\users\\jawad\\appdata\\local\\programs\\python\\python38\\lib\\site-packages (from tweepy) (1.3.1)\n",
      "Requirement already satisfied: certifi>=2017.4.17 in c:\\users\\jawad\\appdata\\local\\programs\\python\\python38\\lib\\site-packages (from requests<3,>=2.27.0->tweepy) (2024.8.30)\n",
      "Requirement already satisfied: urllib3<3,>=1.21.1 in c:\\users\\jawad\\appdata\\local\\programs\\python\\python38\\lib\\site-packages (from requests<3,>=2.27.0->tweepy) (2.2.3)\n",
      "Requirement already satisfied: charset-normalizer<4,>=2 in c:\\users\\jawad\\appdata\\local\\programs\\python\\python38\\lib\\site-packages (from requests<3,>=2.27.0->tweepy) (3.4.0)\n",
      "Requirement already satisfied: idna<4,>=2.5 in c:\\users\\jawad\\appdata\\local\\programs\\python\\python38\\lib\\site-packages (from requests<3,>=2.27.0->tweepy) (3.10)\n",
      "Note: you may need to restart the kernel to use updated packages.\n"
     ]
    },
    {
     "name": "stderr",
     "output_type": "stream",
     "text": [
      "WARNING: You are using pip version 21.1.1; however, version 24.3.1 is available.\n",
      "You should consider upgrading via the 'c:\\Users\\jawad\\AppData\\Local\\Programs\\Python\\Python38\\python.exe -m pip install --upgrade pip' command.\n"
     ]
    },
    {
     "name": "stdout",
     "output_type": "stream",
     "text": [
      "Requirement already satisfied: pandas in c:\\users\\jawad\\appdata\\local\\programs\\python\\python38\\lib\\site-packages (2.0.3)\n",
      "Requirement already satisfied: python-dateutil>=2.8.2 in c:\\users\\jawad\\appdata\\roaming\\python\\python38\\site-packages (from pandas) (2.9.0.post0)\n",
      "Requirement already satisfied: tzdata>=2022.1 in c:\\users\\jawad\\appdata\\local\\programs\\python\\python38\\lib\\site-packages (from pandas) (2024.2)\n",
      "Requirement already satisfied: pytz>=2020.1 in c:\\users\\jawad\\appdata\\local\\programs\\python\\python38\\lib\\site-packages (from pandas) (2024.2)\n",
      "Requirement already satisfied: numpy>=1.20.3 in c:\\users\\jawad\\appdata\\local\\programs\\python\\python38\\lib\\site-packages (from pandas) (1.24.4)\n",
      "Requirement already satisfied: six>=1.5 in c:\\users\\jawad\\appdata\\roaming\\python\\python38\\site-packages (from python-dateutil>=2.8.2->pandas) (1.16.0)\n",
      "Note: you may need to restart the kernel to use updated packages.\n"
     ]
    },
    {
     "name": "stderr",
     "output_type": "stream",
     "text": [
      "WARNING: You are using pip version 21.1.1; however, version 24.3.1 is available.\n",
      "You should consider upgrading via the 'c:\\Users\\jawad\\AppData\\Local\\Programs\\Python\\Python38\\python.exe -m pip install --upgrade pip' command.\n"
     ]
    }
   ],
   "source": [
    "%pip install tweepy\n",
    "%pip install pandas"
   ]
  },
  {
   "cell_type": "code",
   "execution_count": 6,
   "metadata": {},
   "outputs": [],
   "source": [
    "import tweepy\n",
    "import pandas as pd\n",
    "import json"
   ]
  },
  {
   "cell_type": "markdown",
   "metadata": {},
   "source": [
    "### X Data Collection"
   ]
  },
  {
   "cell_type": "code",
   "execution_count": 10,
   "metadata": {},
   "outputs": [
    {
     "name": "stdout",
     "output_type": "stream",
     "text": [
      "Response(data=[<Tweet id=1870434964849717620 text='chatgpt how do I get over this😔👇🏻 https://t.co/GnV6V7Nkf6'>, <Tweet id=1870434905639072205 text='DEKABR Bathroom Scale for Body Weight,  Upgraded soft 3D pattern foot pad.\\nPrime Dar DeaIs: ⬇️-8%💲🛒\\nhttps://t.co/QsprPd1kWW\\n\\n#JIMINxTIFFANY #ChatGPT #MUNCRY #Dolphins #KatrinaKaif #ITZY_RINGO #tontawan_t #GoBucs #TOMORROW_X_TOGETHER #TheNameChapter https://t.co/f95qn9Ue31'>, <Tweet id=1870434890594083310 text='I’ve subscribed to ChatGPT Plus just recently. It is really nice that I can ask as much question I want to.\\nThe best of all is the access to GPT-o1 which allow me to ask more analytical and research based questions that involve higher reasoning processes than what GPT-4o do. https://t.co/5eCqjuRae1'>, <Tweet id=1870434817386639374 text='DEKABR Upgraded Whistle Control Dog Toys for Kids, Fun Interactive Dog #Toys.🤣🤣🤣\\n🎉time deal : -8%🎉🛒\\n🏁https://t.co/i078svnXsl\\n\\n#TOMORROW_X_TOGETHER #KatrinaKaif #ITZY_RINGO #tontawan_t #TheNameChapter #ChatGPT #MUNCRY #Dolphins #GoBucs #JIMINxTIFFANY https://t.co/MBsBfWKiLO'>, <Tweet id=1870434769907114052 text='SMOSUN #SafeHammer Glass Breaker, #Car Hammer Seat Belt Cutter Emergency #Underwater Escape Tool(3PCS)\\ntime deal : -8%💲\\nhttps://t.co/GvQvHXO1dw\\n\\n#TOMORROW_X_TOGETHER #JIMINxTIFFANY #KatrinaKaif #ChatGPT @elonmusk #MUNCRY #Dolphins #TheNameChapter #GoBucs #ITZY_RINGO #tontawan_t https://t.co/1Tai0u14JN'>, <Tweet id=1870434764496470380 text='⁰READY WTB WTS ALL DURASI  HARIAN BULANAN NETFLIX CANVA YOUTUBE VIU QUILLBOT ALIGHT MOTION APPMUS VIDIO DISNEY CATCHPLAY CAPCUT YOUKU BSTATION HBO PRIME IQIYI CHATGPT WETV\\norder: https://t.co/JBuQ7yDtgx\\n#zonauang #zonajajan https://t.co/3i35uZ8s1c'>, <Tweet id=1870434753884955057 text='PH PREMIUM ACCOUNT\\n\\nNETFLIX  DISNEY SPOTIFY  YOUTUBE PRIME VIDEO HBO GO QUILLBOT CANVA GRAMMARLY CHATGPT STUDOCU REMINI CAPCUT APPLE MUSIC/ TV VIU SCRIBD CHEGG COURSEHERO BARTLEBY BRAINLY RESEARCHGATE SLIDESHARE\\n\\ntags: wtb lfs lfb lf ph prem accs ph buyer client unlock unlocks https://t.co/zWQFllyefC'>, <Tweet id=1870434705176514847 text='DEKABR high-precision body fat #scale, WiFi bathroom scale, measures 24 body parameters.\\n🎉time deal : -8%🎉🛒\\n🏁https://t.co/pmyjP1rUFj\\n\\n#TOMORROW_X_TOGETHER #KatrinaKaif #ITZY_RINGO #tontawan_t #TheNameChapter #ChatGPT #MUNCRY #Dolphins #GoBucs #JIMINxTIFFANY https://t.co/JVgfckdUsK'>, <Tweet id=1870434677091352925 text='DEKABR 45KN Heavy Duty Alloy Steel Auto-Locking Climbing Carabiner\\n🎉time deal : -8%💲🎉\\nhttps://t.co/jzYFyiWO6R\\n\\n#GoBucs #TOMORROW_X_TOGETHER @elonmusk #JIMINxTIFFANY #tontawan_t #KatrinaKaif #Dolphins #ITZY_RINGO #TheNameChapter #MUNCRY #ChatGPT https://t.co/fXRtnbHl8H'>, <Tweet id=1870434660863684687 text='PREMIUM ACCOUNT PH 🌱\\n\\nNETFLIX TURNITIN HBO YOUTUBE PRIME VIDEO VIU LOKLOK SKILLSHARE GEMINI AI GRAMMARLY CANVA QUIZLET PICSART QUILLBOT CHATGPT  STUDOCU SCRIBD CAPCUT REMINI COURSEHERO\\n\\nt: wts wtb lfs lfb lf acc ph buyer client for sale commissioner\\n\\n💰: GCASH MAYA GOTYME https://t.co/HZQMR1v3Jw'>], includes={}, errors=[], meta={'newest_id': '1870434964849717620', 'oldest_id': '1870434660863684687', 'result_count': 10, 'next_token': 'b26v89c19zqg8o3frr6qngjey96fsw13oa6so6aj1mvst'})\n"
     ]
    }
   ],
   "source": [
    "# Initalize query while excluding retweets, replies and only having english tweets\n",
    "q = \"ChatGPT -is:retweet -is:reply lang:en\"\n",
    "\n",
    "# Using json file to enter personal X developer generated bearer token\n",
    "with open(\"twitter_key.json\") as infile:\n",
    "    json_obj = json.load(infile)\n",
    "    token = json_obj[\"bearer_token\"]\n",
    "\n",
    "    # Connect to X api\n",
    "    client = tweepy.Client(bearer_token=token)\n",
    "\n",
    "    # Fetch tweets\n",
    "    res = client.search_recent_tweets(\n",
    "        query=q,\n",
    "        max_results=100,\n",
    "        tweet_fields=[\"created_at\",  \"text\", \"lang\", \"public_metrics\"],\n",
    "    )\n",
    "\n",
    "    print(res)\n"
   ]
  },
  {
   "cell_type": "code",
   "execution_count": 11,
   "metadata": {},
   "outputs": [
    {
     "name": "stdout",
     "output_type": "stream",
     "text": [
      "Tweet ID:  1870434964849717620\n",
      "Created At:  2024-12-21 11:43:41+00:00\n",
      "Language:  en\n",
      "Text:  chatgpt how do I get over this😔👇🏻 https://t.co/GnV6V7Nkf6\n",
      "Public Metrics:  {'retweet_count': 0, 'reply_count': 0, 'like_count': 1, 'quote_count': 0, 'bookmark_count': 0, 'impression_count': 0}\n",
      "\n",
      "\n",
      "Tweet ID:  1870434905639072205\n",
      "Created At:  2024-12-21 11:43:27+00:00\n",
      "Language:  en\n",
      "Text:  DEKABR Bathroom Scale for Body Weight,  Upgraded soft 3D pattern foot pad.\n",
      "Prime Dar DeaIs: ⬇️-8%💲🛒\n",
      "https://t.co/QsprPd1kWW\n",
      "\n",
      "#JIMINxTIFFANY #ChatGPT #MUNCRY #Dolphins #KatrinaKaif #ITZY_RINGO #tontawan_t #GoBucs #TOMORROW_X_TOGETHER #TheNameChapter https://t.co/f95qn9Ue31\n",
      "Public Metrics:  {'retweet_count': 0, 'reply_count': 0, 'like_count': 0, 'quote_count': 0, 'bookmark_count': 0, 'impression_count': 1}\n",
      "\n",
      "\n",
      "Tweet ID:  1870434890594083310\n",
      "Created At:  2024-12-21 11:43:23+00:00\n",
      "Language:  en\n",
      "Text:  I’ve subscribed to ChatGPT Plus just recently. It is really nice that I can ask as much question I want to.\n",
      "The best of all is the access to GPT-o1 which allow me to ask more analytical and research based questions that involve higher reasoning processes than what GPT-4o do. https://t.co/5eCqjuRae1\n",
      "Public Metrics:  {'retweet_count': 0, 'reply_count': 0, 'like_count': 1, 'quote_count': 0, 'bookmark_count': 0, 'impression_count': 3}\n",
      "\n",
      "\n",
      "Tweet ID:  1870434817386639374\n",
      "Created At:  2024-12-21 11:43:06+00:00\n",
      "Language:  en\n",
      "Text:  DEKABR Upgraded Whistle Control Dog Toys for Kids, Fun Interactive Dog #Toys.🤣🤣🤣\n",
      "🎉time deal : -8%🎉🛒\n",
      "🏁https://t.co/i078svnXsl\n",
      "\n",
      "#TOMORROW_X_TOGETHER #KatrinaKaif #ITZY_RINGO #tontawan_t #TheNameChapter #ChatGPT #MUNCRY #Dolphins #GoBucs #JIMINxTIFFANY https://t.co/MBsBfWKiLO\n",
      "Public Metrics:  {'retweet_count': 0, 'reply_count': 0, 'like_count': 0, 'quote_count': 0, 'bookmark_count': 0, 'impression_count': 1}\n",
      "\n",
      "\n",
      "Tweet ID:  1870434769907114052\n",
      "Created At:  2024-12-21 11:42:54+00:00\n",
      "Language:  en\n",
      "Text:  SMOSUN #SafeHammer Glass Breaker, #Car Hammer Seat Belt Cutter Emergency #Underwater Escape Tool(3PCS)\n",
      "time deal : -8%💲\n",
      "https://t.co/GvQvHXO1dw\n",
      "\n",
      "#TOMORROW_X_TOGETHER #JIMINxTIFFANY #KatrinaKaif #ChatGPT @elonmusk #MUNCRY #Dolphins #TheNameChapter #GoBucs #ITZY_RINGO #tontawan_t https://t.co/1Tai0u14JN\n",
      "Public Metrics:  {'retweet_count': 0, 'reply_count': 0, 'like_count': 0, 'quote_count': 0, 'bookmark_count': 0, 'impression_count': 1}\n",
      "\n",
      "\n",
      "Tweet ID:  1870434764496470380\n",
      "Created At:  2024-12-21 11:42:53+00:00\n",
      "Language:  en\n",
      "Text:  ⁰READY WTB WTS ALL DURASI  HARIAN BULANAN NETFLIX CANVA YOUTUBE VIU QUILLBOT ALIGHT MOTION APPMUS VIDIO DISNEY CATCHPLAY CAPCUT YOUKU BSTATION HBO PRIME IQIYI CHATGPT WETV\n",
      "order: https://t.co/JBuQ7yDtgx\n",
      "#zonauang #zonajajan https://t.co/3i35uZ8s1c\n",
      "Public Metrics:  {'retweet_count': 0, 'reply_count': 0, 'like_count': 0, 'quote_count': 0, 'bookmark_count': 0, 'impression_count': 30}\n",
      "\n",
      "\n",
      "Tweet ID:  1870434753884955057\n",
      "Created At:  2024-12-21 11:42:50+00:00\n",
      "Language:  en\n",
      "Text:  PH PREMIUM ACCOUNT\n",
      "\n",
      "NETFLIX  DISNEY SPOTIFY  YOUTUBE PRIME VIDEO HBO GO QUILLBOT CANVA GRAMMARLY CHATGPT STUDOCU REMINI CAPCUT APPLE MUSIC/ TV VIU SCRIBD CHEGG COURSEHERO BARTLEBY BRAINLY RESEARCHGATE SLIDESHARE\n",
      "\n",
      "tags: wtb lfs lfb lf ph prem accs ph buyer client unlock unlocks https://t.co/zWQFllyefC\n",
      "Public Metrics:  {'retweet_count': 0, 'reply_count': 0, 'like_count': 0, 'quote_count': 0, 'bookmark_count': 0, 'impression_count': 12}\n",
      "\n",
      "\n",
      "Tweet ID:  1870434705176514847\n",
      "Created At:  2024-12-21 11:42:39+00:00\n",
      "Language:  en\n",
      "Text:  DEKABR high-precision body fat #scale, WiFi bathroom scale, measures 24 body parameters.\n",
      "🎉time deal : -8%🎉🛒\n",
      "🏁https://t.co/pmyjP1rUFj\n",
      "\n",
      "#TOMORROW_X_TOGETHER #KatrinaKaif #ITZY_RINGO #tontawan_t #TheNameChapter #ChatGPT #MUNCRY #Dolphins #GoBucs #JIMINxTIFFANY https://t.co/JVgfckdUsK\n",
      "Public Metrics:  {'retweet_count': 0, 'reply_count': 0, 'like_count': 0, 'quote_count': 0, 'bookmark_count': 0, 'impression_count': 1}\n",
      "\n",
      "\n",
      "Tweet ID:  1870434677091352925\n",
      "Created At:  2024-12-21 11:42:32+00:00\n",
      "Language:  en\n",
      "Text:  DEKABR 45KN Heavy Duty Alloy Steel Auto-Locking Climbing Carabiner\n",
      "🎉time deal : -8%💲🎉\n",
      "https://t.co/jzYFyiWO6R\n",
      "\n",
      "#GoBucs #TOMORROW_X_TOGETHER @elonmusk #JIMINxTIFFANY #tontawan_t #KatrinaKaif #Dolphins #ITZY_RINGO #TheNameChapter #MUNCRY #ChatGPT https://t.co/fXRtnbHl8H\n",
      "Public Metrics:  {'retweet_count': 0, 'reply_count': 0, 'like_count': 0, 'quote_count': 0, 'bookmark_count': 0, 'impression_count': 1}\n",
      "\n",
      "\n",
      "Tweet ID:  1870434660863684687\n",
      "Created At:  2024-12-21 11:42:28+00:00\n",
      "Language:  en\n",
      "Text:  PREMIUM ACCOUNT PH 🌱\n",
      "\n",
      "NETFLIX TURNITIN HBO YOUTUBE PRIME VIDEO VIU LOKLOK SKILLSHARE GEMINI AI GRAMMARLY CANVA QUIZLET PICSART QUILLBOT CHATGPT  STUDOCU SCRIBD CAPCUT REMINI COURSEHERO\n",
      "\n",
      "t: wts wtb lfs lfb lf acc ph buyer client for sale commissioner\n",
      "\n",
      "💰: GCASH MAYA GOTYME https://t.co/HZQMR1v3Jw\n",
      "Public Metrics:  {'retweet_count': 7, 'reply_count': 0, 'like_count': 7, 'quote_count': 0, 'bookmark_count': 7, 'impression_count': 27}\n",
      "\n",
      "\n"
     ]
    }
   ],
   "source": [
    "# Display tweeets collected\n",
    "\n",
    "if res.data:\n",
    "    for tweet in res.data:\n",
    "        print(\"Tweet ID: \", tweet.id)\n",
    "        print(\"Created At: \", tweet.created_at)\n",
    "        print(\"Language: \", tweet.lang)\n",
    "        print(\"Text: \", tweet.text)\n",
    "        print(\"Public Metrics: \", tweet.public_metrics)\n",
    "        print(\"\\n\")\n",
    "else:\n",
    "    print(\"No tweets found.\")"
   ]
  },
  {
   "cell_type": "code",
   "execution_count": 12,
   "metadata": {},
   "outputs": [],
   "source": [
    "# Extract specific attributes from collected data\n",
    "\n",
    "if res.data:\n",
    "    tweet_data = [\n",
    "        {\n",
    "            \"id\": tweet.id,\n",
    "            \"created_at\": tweet.created_at,\n",
    "            \"text\": tweet.text,\n",
    "            \"lang\": tweet.lang,\n",
    "            \"retweet_count\": tweet.public_metrics.get(\"retweet_count\", 0),\n",
    "            \"reply_count\": tweet.public_metrics.get(\"reply_count\", 0),\n",
    "            \"like_count\": tweet.public_metrics.get(\"like_count\", 0),\n",
    "            \"quote_count\": tweet.public_metrics.get(\"quote_count\", 0),\n",
    "        }\n",
    "        for tweet in res.data\n",
    "    ]"
   ]
  },
  {
   "cell_type": "code",
   "execution_count": 13,
   "metadata": {},
   "outputs": [],
   "source": [
    "# Initialize primary dataframe holding the collected data and the dataframe for holding the next batch that will be appended to the prime\n",
    "\n",
    "df_prime = pd.DataFrame(tweet_data)\n",
    "df_add = df_prime.copy()"
   ]
  },
  {
   "cell_type": "markdown",
   "metadata": {},
   "source": [
    "### Fetching additional Tweets"
   ]
  },
  {
   "cell_type": "markdown",
   "metadata": {},
   "source": [
    "#### The next four lines need to be repeated after creating a new X developer account to get another 100 tweets fetched."
   ]
  },
  {
   "cell_type": "code",
   "execution_count": 24,
   "metadata": {},
   "outputs": [
    {
     "name": "stdout",
     "output_type": "stream",
     "text": [
      "Response(data=[<Tweet id=1870434269597925826 text='DEKABR Bathroom Scale for Body Weight,  Upgraded soft 3D pattern foot pad.\\nPrime Dar DeaIs: ⬇️-8%💲🛒\\nhttps://t.co/0zkXC5dRRQ\\n\\n#JIMINxTIFFANY #ChatGPT #MUNCRY #Dolphins #KatrinaKaif #ITZY_RINGO #tontawan_t #GoBucs #TOMORROW_X_TOGETHER #TheNameChapter https://t.co/gcFcsuM8HG'>, <Tweet id=1870434174810919385 text='The newly introduced ChatGPT #O3 is gonna be wonderful.\\n\\nOn par with $SORA!\\n\\n🖥️ 👁️ https://t.co/CUTqfWFtY7'>, <Tweet id=1870434151691907148 text='DEKABR Upgraded Whistle Control Dog Toys for Kids, Fun Interactive Dog #Toys.🤣🤣🤣\\n🎉time deal : -8%🎉🛒\\n🏁https://t.co/afuw5L159Y\\n\\n#TOMORROW_X_TOGETHER #KatrinaKaif #ITZY_RINGO #tontawan_t #TheNameChapter #ChatGPT #MUNCRY #Dolphins #GoBucs #JIMINxTIFFANY https://t.co/JytovBSQB7'>, <Tweet id=1870434149301117074 text=\"Chatgpt just told me he's proud of me. I low-key want to cry\">, <Tweet id=1870434099762188657 text='SMOSUN #SafeHammer Glass Breaker, #Car Hammer Seat Belt Cutter Emergency #Underwater Escape Tool(3PCS)\\ntime deal : -8%💲\\nhttps://t.co/AWjV1mfSwx\\n\\n#TOMORROW_X_TOGETHER #JIMINxTIFFANY #KatrinaKaif #ChatGPT @elonmusk #MUNCRY #Dolphins #TheNameChapter #GoBucs #ITZY_RINGO #tontawan_t https://t.co/j0rJzhe5ni'>, <Tweet id=1870434091381727594 text='Discover Everything About AI Ethics Advisor: Your ChatGPT Store Guide on https://t.co/y5RK6OlNbK\\n        https://t.co/7yEopSQ7G7'>, <Tweet id=1870434027859222538 text='DEKABR high-precision body fat #scale, WiFi bathroom scale, measures 24 body parameters.\\n🎉time deal : -8%🎉🛒\\n🏁https://t.co/QQvDk1Hhyp\\n\\n#TOMORROW_X_TOGETHER #KatrinaKaif #ITZY_RINGO #tontawan_t #TheNameChapter #ChatGPT #MUNCRY #Dolphins #GoBucs #JIMINxTIFFANY https://t.co/90jxp2FCy3'>, <Tweet id=1870433990131536164 text='DEKABR 45KN Heavy Duty Alloy Steel Auto-Locking Climbing Carabiner\\n🎉time deal : -8%💲🎉\\nhttps://t.co/fQ1cGoGZle\\n\\n#GoBucs #TOMORROW_X_TOGETHER @elonmusk #JIMINxTIFFANY #tontawan_t #KatrinaKaif #Dolphins #ITZY_RINGO #TheNameChapter #MUNCRY #ChatGPT https://t.co/D3EP8gpFyN'>, <Tweet id=1870433962017112479 text='SMOSUN #Car Safety Hammer Glass Breaker, 12-in-1 Car Stainless Steel Hammer Multi-Tool \\n🎉time deal : -8%💲🎉\\nhttps://t.co/U5fLLE3Tn6\\n\\n#TOMORROW_X_TOGETHER #JIMINxTIFFANY #KatrinaKaif #ChatGPT @elonmusk #MUNCRY #Dolphins #TheNameChapter #GoBucs #ITZY_RINGO #tontawan_t https://t.co/AJF6S3mVV4'>, <Tweet id=1870433938692600309 text='As part of its “12 days of OpenAI” announcements, #OpenAI has integrated its AI-powered chatbot into #WhatsApp. In its latest announcement video, OpenAI said that users can chat with #ChatGPT directly on WhatsApp, without needing a separate app or account.'>], includes={}, errors=[], meta={'newest_id': '1870434269597925826', 'oldest_id': '1870433938692600309', 'result_count': 10, 'next_token': 'b26v89c19zqg8o3frr6qngjewr6zc9f6b8er65wsij9ml'})\n"
     ]
    }
   ],
   "source": [
    "# Fetch next batch of tweets starting from after the last tweet gathered\n",
    "\n",
    "with open(\"twitter_key.json\") as infile:\n",
    "    json_obj = json.load(infile)\n",
    "    token = json_obj[\"bearer_token\"]\n",
    "\n",
    "    client = tweepy.Client(bearer_token=token)\n",
    "\n",
    "    res_2 = client.search_recent_tweets(\n",
    "        query=q,\n",
    "        max_results=10,\n",
    "        tweet_fields=[\"created_at\",  \"text\", \"lang\", \"public_metrics\"],\n",
    "        until_id = df_prime['id'].iloc[-1]\n",
    "    )\n",
    "\n",
    "    print(res_2)\n"
   ]
  },
  {
   "cell_type": "code",
   "execution_count": 26,
   "metadata": {},
   "outputs": [],
   "source": [
    "if res_2.data:\n",
    "    # Extract tweet data\n",
    "    tweet_data_2 = [\n",
    "        {\n",
    "            \"id\": tweet.id,\n",
    "            \"created_at\": tweet.created_at,\n",
    "            \"text\": tweet.text,\n",
    "            \"lang\": tweet.lang,\n",
    "            \"retweet_count\": tweet.public_metrics.get(\"retweet_count\", 0),\n",
    "            \"reply_count\": tweet.public_metrics.get(\"reply_count\", 0),\n",
    "            \"like_count\": tweet.public_metrics.get(\"like_count\", 0),\n",
    "            \"quote_count\": tweet.public_metrics.get(\"quote_count\", 0),\n",
    "        }\n",
    "        for tweet in res_2.data\n",
    "    ]"
   ]
  },
  {
   "cell_type": "code",
   "execution_count": 28,
   "metadata": {},
   "outputs": [],
   "source": [
    "df_add = pd.DataFrame(tweet_data_2)"
   ]
  },
  {
   "cell_type": "code",
   "execution_count": 29,
   "metadata": {},
   "outputs": [
    {
     "data": {
      "text/plain": [
       "True"
      ]
     },
     "execution_count": 29,
     "metadata": {},
     "output_type": "execute_result"
    }
   ],
   "source": [
    "# Append new batch to main data frame\n",
    "\n",
    "df_prime = pd.concat([df_prime, df_add], axis=0, ignore_index=True)\n",
    "df_prime['id'].is_unique"
   ]
  },
  {
   "cell_type": "code",
   "execution_count": 133,
   "metadata": {},
   "outputs": [
    {
     "data": {
      "text/html": [
       "<div>\n",
       "<style scoped>\n",
       "    .dataframe tbody tr th:only-of-type {\n",
       "        vertical-align: middle;\n",
       "    }\n",
       "\n",
       "    .dataframe tbody tr th {\n",
       "        vertical-align: top;\n",
       "    }\n",
       "\n",
       "    .dataframe thead th {\n",
       "        text-align: right;\n",
       "    }\n",
       "</style>\n",
       "<table border=\"1\" class=\"dataframe\">\n",
       "  <thead>\n",
       "    <tr style=\"text-align: right;\">\n",
       "      <th></th>\n",
       "      <th>id</th>\n",
       "      <th>created_at</th>\n",
       "      <th>text</th>\n",
       "      <th>lang</th>\n",
       "      <th>retweet_count</th>\n",
       "      <th>reply_count</th>\n",
       "      <th>like_count</th>\n",
       "      <th>quote_count</th>\n",
       "    </tr>\n",
       "  </thead>\n",
       "  <tbody>\n",
       "    <tr>\n",
       "      <th>0</th>\n",
       "      <td>1866062987494379873</td>\n",
       "      <td>2024-12-09 10:11:00+00:00</td>\n",
       "      <td>WTS WTB JUAL\\n\\nNETFLIX 1p2u 20k, 1p1u 32k\\n\\n...</td>\n",
       "      <td>en</td>\n",
       "      <td>0</td>\n",
       "      <td>0</td>\n",
       "      <td>0</td>\n",
       "      <td>0</td>\n",
       "    </tr>\n",
       "    <tr>\n",
       "      <th>1</th>\n",
       "      <td>1866062894993215811</td>\n",
       "      <td>2024-12-09 10:10:38+00:00</td>\n",
       "      <td>🧠 Think Nvidia is Overvalued?\\n\\nLet me remind...</td>\n",
       "      <td>en</td>\n",
       "      <td>0</td>\n",
       "      <td>0</td>\n",
       "      <td>0</td>\n",
       "      <td>0</td>\n",
       "    </tr>\n",
       "    <tr>\n",
       "      <th>2</th>\n",
       "      <td>1866062875489677734</td>\n",
       "      <td>2024-12-09 10:10:33+00:00</td>\n",
       "      <td>JUAL BELI WTS WTB APLIKASI PREMIUM SPOTIFY CHA...</td>\n",
       "      <td>en</td>\n",
       "      <td>0</td>\n",
       "      <td>0</td>\n",
       "      <td>0</td>\n",
       "      <td>0</td>\n",
       "    </tr>\n",
       "    <tr>\n",
       "      <th>3</th>\n",
       "      <td>1866062713010500070</td>\n",
       "      <td>2024-12-09 10:09:55+00:00</td>\n",
       "      <td>1/6\\nJust watched an AI try to pull an Ex Mach...</td>\n",
       "      <td>en</td>\n",
       "      <td>0</td>\n",
       "      <td>1</td>\n",
       "      <td>0</td>\n",
       "      <td>0</td>\n",
       "    </tr>\n",
       "    <tr>\n",
       "      <th>4</th>\n",
       "      <td>1866062656446353708</td>\n",
       "      <td>2024-12-09 10:09:41+00:00</td>\n",
       "      <td>I explained the X of Elon: \" $TSLA shorts reci...</td>\n",
       "      <td>en</td>\n",
       "      <td>0</td>\n",
       "      <td>0</td>\n",
       "      <td>0</td>\n",
       "      <td>0</td>\n",
       "    </tr>\n",
       "    <tr>\n",
       "      <th>...</th>\n",
       "      <td>...</td>\n",
       "      <td>...</td>\n",
       "      <td>...</td>\n",
       "      <td>...</td>\n",
       "      <td>...</td>\n",
       "      <td>...</td>\n",
       "      <td>...</td>\n",
       "      <td>...</td>\n",
       "    </tr>\n",
       "    <tr>\n",
       "      <th>295</th>\n",
       "      <td>1866035274406404253</td>\n",
       "      <td>2024-12-09 08:20:53+00:00</td>\n",
       "      <td>if one more classmate pulls chatgpt up in blow...</td>\n",
       "      <td>en</td>\n",
       "      <td>0</td>\n",
       "      <td>1</td>\n",
       "      <td>5</td>\n",
       "      <td>0</td>\n",
       "    </tr>\n",
       "    <tr>\n",
       "      <th>296</th>\n",
       "      <td>1866035264088662348</td>\n",
       "      <td>2024-12-09 08:20:50+00:00</td>\n",
       "      <td>JUAL BELI APP PREMIUM WTS WTB NETFLIX MURAH DI...</td>\n",
       "      <td>en</td>\n",
       "      <td>0</td>\n",
       "      <td>0</td>\n",
       "      <td>0</td>\n",
       "      <td>0</td>\n",
       "    </tr>\n",
       "    <tr>\n",
       "      <th>297</th>\n",
       "      <td>1866035240604676243</td>\n",
       "      <td>2024-12-09 08:20:45+00:00</td>\n",
       "      <td>chatgpt please ai generate image of bart simps...</td>\n",
       "      <td>en</td>\n",
       "      <td>0</td>\n",
       "      <td>2</td>\n",
       "      <td>28</td>\n",
       "      <td>0</td>\n",
       "    </tr>\n",
       "    <tr>\n",
       "      <th>298</th>\n",
       "      <td>1866035197122396236</td>\n",
       "      <td>2024-12-09 08:20:34+00:00</td>\n",
       "      <td>Hello ChatGPT https://t.co/r0El3zxl9z</td>\n",
       "      <td>en</td>\n",
       "      <td>0</td>\n",
       "      <td>0</td>\n",
       "      <td>0</td>\n",
       "      <td>0</td>\n",
       "    </tr>\n",
       "    <tr>\n",
       "      <th>299</th>\n",
       "      <td>1866035195826323585</td>\n",
       "      <td>2024-12-09 08:20:34+00:00</td>\n",
       "      <td>JUAL BELI APP PREMIUM WTS WTB NETFLIX MURAH DI...</td>\n",
       "      <td>en</td>\n",
       "      <td>0</td>\n",
       "      <td>0</td>\n",
       "      <td>0</td>\n",
       "      <td>0</td>\n",
       "    </tr>\n",
       "  </tbody>\n",
       "</table>\n",
       "<p>300 rows × 8 columns</p>\n",
       "</div>"
      ],
      "text/plain": [
       "                      id                created_at  \\\n",
       "0    1866062987494379873 2024-12-09 10:11:00+00:00   \n",
       "1    1866062894993215811 2024-12-09 10:10:38+00:00   \n",
       "2    1866062875489677734 2024-12-09 10:10:33+00:00   \n",
       "3    1866062713010500070 2024-12-09 10:09:55+00:00   \n",
       "4    1866062656446353708 2024-12-09 10:09:41+00:00   \n",
       "..                   ...                       ...   \n",
       "295  1866035274406404253 2024-12-09 08:20:53+00:00   \n",
       "296  1866035264088662348 2024-12-09 08:20:50+00:00   \n",
       "297  1866035240604676243 2024-12-09 08:20:45+00:00   \n",
       "298  1866035197122396236 2024-12-09 08:20:34+00:00   \n",
       "299  1866035195826323585 2024-12-09 08:20:34+00:00   \n",
       "\n",
       "                                                  text lang  retweet_count  \\\n",
       "0    WTS WTB JUAL\\n\\nNETFLIX 1p2u 20k, 1p1u 32k\\n\\n...   en              0   \n",
       "1    🧠 Think Nvidia is Overvalued?\\n\\nLet me remind...   en              0   \n",
       "2    JUAL BELI WTS WTB APLIKASI PREMIUM SPOTIFY CHA...   en              0   \n",
       "3    1/6\\nJust watched an AI try to pull an Ex Mach...   en              0   \n",
       "4    I explained the X of Elon: \" $TSLA shorts reci...   en              0   \n",
       "..                                                 ...  ...            ...   \n",
       "295  if one more classmate pulls chatgpt up in blow...   en              0   \n",
       "296  JUAL BELI APP PREMIUM WTS WTB NETFLIX MURAH DI...   en              0   \n",
       "297  chatgpt please ai generate image of bart simps...   en              0   \n",
       "298              Hello ChatGPT https://t.co/r0El3zxl9z   en              0   \n",
       "299  JUAL BELI APP PREMIUM WTS WTB NETFLIX MURAH DI...   en              0   \n",
       "\n",
       "     reply_count  like_count  quote_count  \n",
       "0              0           0            0  \n",
       "1              0           0            0  \n",
       "2              0           0            0  \n",
       "3              1           0            0  \n",
       "4              0           0            0  \n",
       "..           ...         ...          ...  \n",
       "295            1           5            0  \n",
       "296            0           0            0  \n",
       "297            2          28            0  \n",
       "298            0           0            0  \n",
       "299            0           0            0  \n",
       "\n",
       "[300 rows x 8 columns]"
      ]
     },
     "execution_count": 133,
     "metadata": {},
     "output_type": "execute_result"
    }
   ],
   "source": [
    "df_prime"
   ]
  },
  {
   "cell_type": "code",
   "execution_count": 134,
   "metadata": {},
   "outputs": [],
   "source": [
    "df_prime.to_csv('better_x_tweets.csv', index=False)"
   ]
  }
 ],
 "metadata": {
  "kernelspec": {
   "display_name": "Python 3",
   "language": "python",
   "name": "python3"
  },
  "language_info": {
   "codemirror_mode": {
    "name": "ipython",
    "version": 3
   },
   "file_extension": ".py",
   "mimetype": "text/x-python",
   "name": "python",
   "nbconvert_exporter": "python",
   "pygments_lexer": "ipython3",
   "version": "3.8.10"
  }
 },
 "nbformat": 4,
 "nbformat_minor": 2
}
